{
 "cells": [
  {
   "cell_type": "markdown",
   "id": "9496c8d7",
   "metadata": {},
   "source": [
    "## Amazone Web Scraping"
   ]
  },
  {
   "cell_type": "code",
   "execution_count": 1,
   "id": "98919056",
   "metadata": {},
   "outputs": [],
   "source": [
    "# Import Libraries\n",
    "\n",
    "from bs4 import BeautifulSoup\n",
    "import requests\n",
    "import smtplib\n",
    "import time\n",
    "import datetime\n",
    "import csv"
   ]
  },
  {
   "cell_type": "code",
   "execution_count": 2,
   "id": "cfa94871",
   "metadata": {},
   "outputs": [
    {
     "name": "stdout",
     "output_type": "stream",
     "text": [
      "Status Code: 200\n",
      "Product Title: Apple AirPods Max Wireless Over-Ear Headphones, Pro-Level Active Noise Cancellation, Transparency Mode, Personalised Spatial Audio, USB-C Charging, Bluetooth Headphones for iPhone - Starlight\n",
      "59,900.\n",
      "4.0  4.0 out of 5 stars\n",
      "ULTIMATE OVER-EAR LISTENING EXPERIENCE — Apple-designed dynamic driver provides high-fidelity audio. Computational audio combines custom acoustic design with the Apple H1 chip and software for breakthrough listening experiences.    FIVE FRESH COLOURS — AirPods Max come in five fresh colours: Midnight, Starlight, Blue, Purple and Orange. A colour-matched Smart Case is also included.    FOCUS ON WHAT’S PLAYING — Pro-level Active Noise Cancellation removes up to 2x more background noise, so you can immerse yourself in music.    HEAR THE WORLD AROUND YOU — Transparency mode lets you comfortably hear and interact with the world around you.    PERSONALISED SPATIAL AUDIO — With sound that suits your unique ear shape along with dynamic head tracking, AirPods Max deliver an immersive listening experience that places sound all around you. You can also listen to selected songs, shows and movies in Dolby Atmos.    ACOUSTIC-FIRST DESIGN — Designed with a knit-mesh canopy and memory foam ear cushions for an exceptional over-ear fit that perfectly seals in sound.    MAGICAL EXPERIENCE — Pair AirPods Max by simply placing them near your device and tapping Connect on your screen.* AirPods Max pause audio when you take them off. And Automatic Switching makes listening between your iPhone, iPad and Mac completely effortless.*\n",
      "AirPods Max, the ultimate listening experience. Now in five new colours. An Apple-designed driver provides high-fidelity audio. Every detail, from canopy to cushions, has been designed for an exceptional fit. Pro-level Active Noise Cancellation blocks outside noise, while Transparency mode keeps you connected to your environment. Updated with a USB-C connector for even more convenient charging.\n",
      "Product Review with id= 'cm-cr-dp-review-list' not found. Try inspecting the HTML manually.\n",
      "Data saved successfully\n"
     ]
    }
   ],
   "source": [
    "# Define the URL and headers\n",
    "url = \"https://www.amazon.in/Apple-Headphones-Cancellation-Transparency-Personalised/dp/B0DGJ7S59D/ref=sr_1_4?crid=RBARZ970AYJI&dib=eyJ2IjoiMSJ9.y08pMqaeTlUXGU64oyMGlx8v2Sx78yzGgsFfSLyufaCZhsU6s-KsHLVTWzO21l030BNAPdSwF1uvk-xP2xiYHOrOsuJoyUXTbtnLlKohg0PDfeDV2ow3KJTID02CZHFHe8BElHxz0Qx9AFS7cgOtkIB0SiGqovUlX53vpFMVfDlFCxKDYYyYS0xwojJ1zvN8J-uZuRvzI8Bf-RrBv58giQ5qGy-67sptz4v75mHE4Wo.tSxthxJx5H1i4-8rVzEb4sSrmXDaiOyiNDov_Gs8y5U&dib_tag=se&keywords=apple%2Bairpods%2Bpro%2Bmax&nsdOptOutParam=true&qid=1736429886&sprefix=%2Caps%2C209&sr=8-4&th=1\"\n",
    "headers = {\n",
    "    \"User-Agent\": \"Mozilla/5.0 (Macintosh; Intel Mac OS X 10_15_7) AppleWebKit/537.36 (KHTML, like Gecko) Chrome/131.0.0.0 Safari/537.36\"\n",
    "}\n",
    "\n",
    "\n",
    "# Add delay to avoid blocking\n",
    "time.sleep(2)\n",
    "    \n",
    " # Send the request\n",
    "response = requests.get(url, headers=headers)\n",
    "    \n",
    "# Check the status code\n",
    "print(f\"Status Code: {response.status_code}\")\n",
    "if response.status_code != 200:\n",
    "    print(f\"Request failed. Status: {response.status_code}\")\n",
    "    if response.status_code == 403:\n",
    "        print(\"Blocked, may need Proxy or CAPTCHA.\")\n",
    "    elif response.status_code == 503:\n",
    "        print(\"Server unavailable temporarily, try later.\")\n",
    "else:\n",
    "    # Parse the HTML\n",
    "    html_content = response.text\n",
    "    soup = BeautifulSoup(html_content, 'lxml')\n",
    "        \n",
    "    # Find the product title\n",
    "    product_title = soup.find('span', id='productTitle')\n",
    "    if product_title:\n",
    "        title_text = product_title.get_text().strip()\n",
    "        print(f\"Product Title: {title_text}\")\n",
    "    else:\n",
    "        print(\"Product Title with id='productTitle' not found. Try inspecting the HTML manually.\")\n",
    "\n",
    "    # Find the product price\n",
    "    product_price = soup.find('span' , class_ = 'a-price-whole')\n",
    "    if product_price:\n",
    "        price_text = product_price.get_text().strip()\n",
    "        print(price_text)\n",
    "    else:\n",
    "         print(\"Product Price with class_ = 'a-price-whole' not found. Try inspecting the HTML manually.\")\n",
    "\n",
    "    # Find the product rating\n",
    "    product_rate = soup.find('span' , id= 'acrPopover')\n",
    "    if product_rate:\n",
    "        rate_text = product_rate.get_text().strip()\n",
    "        print(rate_text)\n",
    "    else:\n",
    "         print(\"Product Rate with id= 'acrPopover' not found. Try inspecting the HTML manually.\")\n",
    "\n",
    "    # Find About this product\n",
    "    product_info = soup.find(class_= 'a-unordered-list a-vertical a-spacing-mini')\n",
    "    if product_info:\n",
    "        info_text = product_info.get_text().strip()\n",
    "        print(info_text)\n",
    "    else:\n",
    "         print(\"Product Info with class_= 'a-unordered-list a-vertical a-spacing-mini' not found. Try inspecting the HTML manually.\")\n",
    "\n",
    "    # Find product description\n",
    "    product_description = soup.find(id= 'productDescription')\n",
    "    if product_description:\n",
    "        description_text = product_description.get_text().strip()\n",
    "        print(description_text)\n",
    "    else:\n",
    "         print(\"Product Info with id= 'productDescription' not found. Try inspecting the HTML manually.\")\n",
    "        \n",
    "    # Find product Review\n",
    "    product_review = soup.find(id= 'cm-cr-dp-review-list')\n",
    "    if product_review:\n",
    "        review_text = product_review.get_text().strip()\n",
    "        print(review_text)\n",
    "    else:\n",
    "         print(\"Product Review with id= 'cm-cr-dp-review-list' not found. Try inspecting the HTML manually.\")\n",
    "\n",
    "# Saving Data in CSV File\n",
    "\n",
    "with open(\"amazon_airpod_pro_max.csv\" , mode='w' , newline='') as file:\n",
    "    writer = csv.writer(file)\n",
    "    writer.writerow(['product_title', 'product_price' , 'product_rate' ,'product_info', 'product_description' , 'product_review'])\n",
    "    writer.writerow([product_title, product_price , product_rate ,product_info, product_description , product_review])\n",
    "\n",
    "print(\"Data saved successfully\")"
   ]
  },
  {
   "cell_type": "code",
   "execution_count": null,
   "id": "eb25a284",
   "metadata": {},
   "outputs": [],
   "source": []
  },
  {
   "cell_type": "code",
   "execution_count": null,
   "id": "e65a9c0f",
   "metadata": {},
   "outputs": [
    {
     "name": "stdout",
     "output_type": "stream",
     "text": [
      "None\n",
      "None\n"
     ]
    }
   ],
   "source": []
  },
  {
   "cell_type": "code",
   "execution_count": null,
   "id": "7c197322",
   "metadata": {},
   "outputs": [],
   "source": []
  },
  {
   "cell_type": "code",
   "execution_count": null,
   "id": "b9150047",
   "metadata": {},
   "outputs": [],
   "source": []
  }
 ],
 "metadata": {
  "kernelspec": {
   "display_name": "venv",
   "language": "python",
   "name": "python3"
  },
  "language_info": {
   "codemirror_mode": {
    "name": "ipython",
    "version": 3
   },
   "file_extension": ".py",
   "mimetype": "text/x-python",
   "name": "python",
   "nbconvert_exporter": "python",
   "pygments_lexer": "ipython3",
   "version": "3.12.0"
  }
 },
 "nbformat": 4,
 "nbformat_minor": 5
}
